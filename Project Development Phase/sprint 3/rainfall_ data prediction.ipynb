{
 "cells": [
  {
   "cell_type": "code",
   "execution_count": 2,
   "metadata": {
    "id": "Frcgw4Pw3SbJ"
   },
   "outputs": [],
   "source": [
    "import pandas as pd"
   ]
  },
  {
   "cell_type": "code",
   "execution_count": 3,
   "metadata": {
    "id": "uy6HR1Rj370Z"
   },
   "outputs": [],
   "source": [
    "data =pd.read_csv('Max_temp.csv')"
   ]
  },
  {
   "cell_type": "code",
   "execution_count": 4,
   "metadata": {
    "id": "d3LwCKZH4PBm"
   },
   "outputs": [],
   "source": [
    "import pandas as pd\n",
    "import numpy as np\n",
    "import warnings\n",
    "warnings.filterwarnings(\"ignore\")"
   ]
  },
  {
   "cell_type": "code",
   "execution_count": 5,
   "metadata": {
    "colab": {
     "base_uri": "https://localhost:8080/",
     "height": 320
    },
    "id": "EGT21CmZ4Q8F",
    "outputId": "7d3d1740-fef3-4428-b6e8-00d5f98dd3bb"
   },
   "outputs": [
    {
     "data": {
      "text/html": [
       "<div>\n",
       "<style scoped>\n",
       "    .dataframe tbody tr th:only-of-type {\n",
       "        vertical-align: middle;\n",
       "    }\n",
       "\n",
       "    .dataframe tbody tr th {\n",
       "        vertical-align: top;\n",
       "    }\n",
       "\n",
       "    .dataframe thead th {\n",
       "        text-align: right;\n",
       "    }\n",
       "</style>\n",
       "<table border=\"1\" class=\"dataframe\">\n",
       "  <thead>\n",
       "    <tr style=\"text-align: right;\">\n",
       "      <th></th>\n",
       "      <th>Year</th>\n",
       "      <th>Jan</th>\n",
       "      <th>Feb</th>\n",
       "      <th>Mar</th>\n",
       "      <th>Apr</th>\n",
       "      <th>May</th>\n",
       "      <th>Jun</th>\n",
       "      <th>Jul</th>\n",
       "      <th>Aug</th>\n",
       "      <th>Sep</th>\n",
       "      <th>Oct</th>\n",
       "      <th>Nov</th>\n",
       "      <th>Dec</th>\n",
       "      <th>Unnamed: 13</th>\n",
       "    </tr>\n",
       "  </thead>\n",
       "  <tbody>\n",
       "    <tr>\n",
       "      <th>0</th>\n",
       "      <td>1901</td>\n",
       "      <td>9.65</td>\n",
       "      <td>11.38</td>\n",
       "      <td>16.27</td>\n",
       "      <td>20.56</td>\n",
       "      <td>23.29</td>\n",
       "      <td>25.00</td>\n",
       "      <td>23.68</td>\n",
       "      <td>22.61</td>\n",
       "      <td>22.00</td>\n",
       "      <td>19.52</td>\n",
       "      <td>14.28</td>\n",
       "      <td>10.93</td>\n",
       "      <td>NaN</td>\n",
       "    </tr>\n",
       "    <tr>\n",
       "      <th>1</th>\n",
       "      <td>1902</td>\n",
       "      <td>11.17</td>\n",
       "      <td>12.61</td>\n",
       "      <td>17.71</td>\n",
       "      <td>21.02</td>\n",
       "      <td>23.80</td>\n",
       "      <td>24.62</td>\n",
       "      <td>23.50</td>\n",
       "      <td>23.47</td>\n",
       "      <td>21.59</td>\n",
       "      <td>18.73</td>\n",
       "      <td>13.62</td>\n",
       "      <td>10.38</td>\n",
       "      <td>NaN</td>\n",
       "    </tr>\n",
       "    <tr>\n",
       "      <th>2</th>\n",
       "      <td>1903</td>\n",
       "      <td>10.34</td>\n",
       "      <td>11.57</td>\n",
       "      <td>15.54</td>\n",
       "      <td>20.21</td>\n",
       "      <td>22.93</td>\n",
       "      <td>24.90</td>\n",
       "      <td>23.84</td>\n",
       "      <td>22.73</td>\n",
       "      <td>21.83</td>\n",
       "      <td>18.53</td>\n",
       "      <td>13.20</td>\n",
       "      <td>10.00</td>\n",
       "      <td>NaN</td>\n",
       "    </tr>\n",
       "    <tr>\n",
       "      <th>3</th>\n",
       "      <td>1904</td>\n",
       "      <td>10.11</td>\n",
       "      <td>12.07</td>\n",
       "      <td>15.90</td>\n",
       "      <td>21.22</td>\n",
       "      <td>23.08</td>\n",
       "      <td>23.75</td>\n",
       "      <td>22.70</td>\n",
       "      <td>22.69</td>\n",
       "      <td>21.60</td>\n",
       "      <td>18.75</td>\n",
       "      <td>13.54</td>\n",
       "      <td>10.71</td>\n",
       "      <td>NaN</td>\n",
       "    </tr>\n",
       "    <tr>\n",
       "      <th>4</th>\n",
       "      <td>1905</td>\n",
       "      <td>9.24</td>\n",
       "      <td>10.28</td>\n",
       "      <td>14.63</td>\n",
       "      <td>18.76</td>\n",
       "      <td>23.72</td>\n",
       "      <td>25.21</td>\n",
       "      <td>23.45</td>\n",
       "      <td>23.12</td>\n",
       "      <td>21.86</td>\n",
       "      <td>19.01</td>\n",
       "      <td>14.63</td>\n",
       "      <td>10.50</td>\n",
       "      <td>NaN</td>\n",
       "    </tr>\n",
       "  </tbody>\n",
       "</table>\n",
       "</div>"
      ],
      "text/plain": [
       "   Year    Jan    Feb    Mar    Apr    May    Jun    Jul    Aug    Sep    Oct  \\\n",
       "0  1901   9.65  11.38  16.27  20.56  23.29  25.00  23.68  22.61  22.00  19.52   \n",
       "1  1902  11.17  12.61  17.71  21.02  23.80  24.62  23.50  23.47  21.59  18.73   \n",
       "2  1903  10.34  11.57  15.54  20.21  22.93  24.90  23.84  22.73  21.83  18.53   \n",
       "3  1904  10.11  12.07  15.90  21.22  23.08  23.75  22.70  22.69  21.60  18.75   \n",
       "4  1905   9.24  10.28  14.63  18.76  23.72  25.21  23.45  23.12  21.86  19.01   \n",
       "\n",
       "     Nov    Dec  Unnamed: 13  \n",
       "0  14.28  10.93          NaN  \n",
       "1  13.62  10.38          NaN  \n",
       "2  13.20  10.00          NaN  \n",
       "3  13.54  10.71          NaN  \n",
       "4  14.63  10.50          NaN  "
      ]
     },
     "execution_count": 5,
     "metadata": {},
     "output_type": "execute_result"
    }
   ],
   "source": [
    "data.head()"
   ]
  },
  {
   "cell_type": "code",
   "execution_count": 12,
   "metadata": {
    "colab": {
     "base_uri": "https://localhost:8080/",
     "height": 206
    },
    "id": "n1OSboTg4mOb",
    "outputId": "2ee8bdfe-2f98-4a2d-b152-91003b335d75"
   },
   "outputs": [
    {
     "data": {
      "text/html": [
       "<div>\n",
       "<style scoped>\n",
       "    .dataframe tbody tr th:only-of-type {\n",
       "        vertical-align: middle;\n",
       "    }\n",
       "\n",
       "    .dataframe tbody tr th {\n",
       "        vertical-align: top;\n",
       "    }\n",
       "\n",
       "    .dataframe thead th {\n",
       "        text-align: right;\n",
       "    }\n",
       "</style>\n",
       "<table border=\"1\" class=\"dataframe\">\n",
       "  <thead>\n",
       "    <tr style=\"text-align: right;\">\n",
       "      <th></th>\n",
       "      <th>Year</th>\n",
       "      <th>Jan</th>\n",
       "      <th>Feb</th>\n",
       "      <th>Mar</th>\n",
       "      <th>Apr</th>\n",
       "      <th>May</th>\n",
       "      <th>Jun</th>\n",
       "      <th>Jul</th>\n",
       "      <th>Aug</th>\n",
       "      <th>Sep</th>\n",
       "      <th>Oct</th>\n",
       "      <th>Nov</th>\n",
       "      <th>Dec</th>\n",
       "    </tr>\n",
       "  </thead>\n",
       "  <tbody>\n",
       "    <tr>\n",
       "      <th>0</th>\n",
       "      <td>1901</td>\n",
       "      <td>9.65</td>\n",
       "      <td>11.38</td>\n",
       "      <td>16.27</td>\n",
       "      <td>20.56</td>\n",
       "      <td>23.29</td>\n",
       "      <td>25.00</td>\n",
       "      <td>23.68</td>\n",
       "      <td>22.61</td>\n",
       "      <td>22.00</td>\n",
       "      <td>19.52</td>\n",
       "      <td>14.28</td>\n",
       "      <td>10.93</td>\n",
       "    </tr>\n",
       "    <tr>\n",
       "      <th>1</th>\n",
       "      <td>1902</td>\n",
       "      <td>11.17</td>\n",
       "      <td>12.61</td>\n",
       "      <td>17.71</td>\n",
       "      <td>21.02</td>\n",
       "      <td>23.80</td>\n",
       "      <td>24.62</td>\n",
       "      <td>23.50</td>\n",
       "      <td>23.47</td>\n",
       "      <td>21.59</td>\n",
       "      <td>18.73</td>\n",
       "      <td>13.62</td>\n",
       "      <td>10.38</td>\n",
       "    </tr>\n",
       "    <tr>\n",
       "      <th>2</th>\n",
       "      <td>1903</td>\n",
       "      <td>10.34</td>\n",
       "      <td>11.57</td>\n",
       "      <td>15.54</td>\n",
       "      <td>20.21</td>\n",
       "      <td>22.93</td>\n",
       "      <td>24.90</td>\n",
       "      <td>23.84</td>\n",
       "      <td>22.73</td>\n",
       "      <td>21.83</td>\n",
       "      <td>18.53</td>\n",
       "      <td>13.20</td>\n",
       "      <td>10.00</td>\n",
       "    </tr>\n",
       "    <tr>\n",
       "      <th>3</th>\n",
       "      <td>1904</td>\n",
       "      <td>10.11</td>\n",
       "      <td>12.07</td>\n",
       "      <td>15.90</td>\n",
       "      <td>21.22</td>\n",
       "      <td>23.08</td>\n",
       "      <td>23.75</td>\n",
       "      <td>22.70</td>\n",
       "      <td>22.69</td>\n",
       "      <td>21.60</td>\n",
       "      <td>18.75</td>\n",
       "      <td>13.54</td>\n",
       "      <td>10.71</td>\n",
       "    </tr>\n",
       "    <tr>\n",
       "      <th>4</th>\n",
       "      <td>1905</td>\n",
       "      <td>9.24</td>\n",
       "      <td>10.28</td>\n",
       "      <td>14.63</td>\n",
       "      <td>18.76</td>\n",
       "      <td>23.72</td>\n",
       "      <td>25.21</td>\n",
       "      <td>23.45</td>\n",
       "      <td>23.12</td>\n",
       "      <td>21.86</td>\n",
       "      <td>19.01</td>\n",
       "      <td>14.63</td>\n",
       "      <td>10.50</td>\n",
       "    </tr>\n",
       "  </tbody>\n",
       "</table>\n",
       "</div>"
      ],
      "text/plain": [
       "   Year    Jan    Feb    Mar    Apr    May    Jun    Jul    Aug    Sep    Oct  \\\n",
       "0  1901   9.65  11.38  16.27  20.56  23.29  25.00  23.68  22.61  22.00  19.52   \n",
       "1  1902  11.17  12.61  17.71  21.02  23.80  24.62  23.50  23.47  21.59  18.73   \n",
       "2  1903  10.34  11.57  15.54  20.21  22.93  24.90  23.84  22.73  21.83  18.53   \n",
       "3  1904  10.11  12.07  15.90  21.22  23.08  23.75  22.70  22.69  21.60  18.75   \n",
       "4  1905   9.24  10.28  14.63  18.76  23.72  25.21  23.45  23.12  21.86  19.01   \n",
       "\n",
       "     Nov    Dec  \n",
       "0  14.28  10.93  \n",
       "1  13.62  10.38  \n",
       "2  13.20  10.00  \n",
       "3  13.54  10.71  \n",
       "4  14.63  10.50  "
      ]
     },
     "execution_count": 12,
     "metadata": {},
     "output_type": "execute_result"
    }
   ],
   "source": [
    "data=data[[\"Year\",\"Jan\",\"Feb\",\"Mar\",\"Apr\",\"May\",\"Jun\",\"Jul\",\"Aug\",\"Sep\",\"Oct\",\"Nov\",\"Dec\"]]\n",
    "data.head()"
   ]
  },
  {
   "cell_type": "code",
   "execution_count": 13,
   "metadata": {
    "colab": {
     "base_uri": "https://localhost:8080/"
    },
    "id": "NAF6Cb475MH1",
    "outputId": "81087607-38de-4ed3-9baa-6f3e3dd9fb4e"
   },
   "outputs": [
    {
     "data": {
      "text/plain": [
       "Year    121\n",
       "Jan     121\n",
       "Feb     121\n",
       "Mar     121\n",
       "Apr     121\n",
       "May     121\n",
       "Jun     121\n",
       "Jul     121\n",
       "Aug     121\n",
       "Sep     121\n",
       "Oct     121\n",
       "Nov     121\n",
       "Dec     121\n",
       "dtype: int64"
      ]
     },
     "execution_count": 13,
     "metadata": {},
     "output_type": "execute_result"
    }
   ],
   "source": [
    "data.count()"
   ]
  },
  {
   "cell_type": "code",
   "execution_count": 14,
   "metadata": {
    "colab": {
     "base_uri": "https://localhost:8080/"
    },
    "id": "ui-aj32N5SYa",
    "outputId": "65bf676a-2fc5-4e3c-a835-c2d826b8e6e1"
   },
   "outputs": [
    {
     "name": "stdout",
     "output_type": "stream",
     "text": [
      "<class 'pandas.core.frame.DataFrame'>\n",
      "RangeIndex: 121 entries, 0 to 120\n",
      "Data columns (total 13 columns):\n",
      " #   Column  Non-Null Count  Dtype  \n",
      "---  ------  --------------  -----  \n",
      " 0   Year    121 non-null    int64  \n",
      " 1   Jan     121 non-null    float64\n",
      " 2   Feb     121 non-null    float64\n",
      " 3   Mar     121 non-null    float64\n",
      " 4   Apr     121 non-null    float64\n",
      " 5   May     121 non-null    float64\n",
      " 6   Jun     121 non-null    float64\n",
      " 7   Jul     121 non-null    float64\n",
      " 8   Aug     121 non-null    float64\n",
      " 9   Sep     121 non-null    float64\n",
      " 10  Oct     121 non-null    float64\n",
      " 11  Nov     121 non-null    float64\n",
      " 12  Dec     121 non-null    float64\n",
      "dtypes: float64(12), int64(1)\n",
      "memory usage: 12.4 KB\n"
     ]
    }
   ],
   "source": [
    "data.info()"
   ]
  },
  {
   "cell_type": "code",
   "execution_count": 15,
   "metadata": {
    "colab": {
     "base_uri": "https://localhost:8080/"
    },
    "id": "fdvQJlf25cHJ",
    "outputId": "5c3dd4d0-0e34-4648-89c1-4c7cc30fc003"
   },
   "outputs": [
    {
     "data": {
      "text/plain": [
       "Year    0\n",
       "Jan     0\n",
       "Feb     0\n",
       "Mar     0\n",
       "Apr     0\n",
       "May     0\n",
       "Jun     0\n",
       "Jul     0\n",
       "Aug     0\n",
       "Sep     0\n",
       "Oct     0\n",
       "Nov     0\n",
       "Dec     0\n",
       "dtype: int64"
      ]
     },
     "execution_count": 15,
     "metadata": {},
     "output_type": "execute_result"
    }
   ],
   "source": [
    "data.isnull().sum()"
   ]
  },
  {
   "cell_type": "code",
   "execution_count": 16,
   "metadata": {
    "id": "TlyDQX8u5frT"
   },
   "outputs": [],
   "source": [
    "data=data.fillna(data.mean())"
   ]
  },
  {
   "cell_type": "code",
   "execution_count": 17,
   "metadata": {
    "colab": {
     "base_uri": "https://localhost:8080/"
    },
    "id": "zOZFfMU-5rID",
    "outputId": "63b37612-d204-4de1-974e-5a4037776c32"
   },
   "outputs": [
    {
     "data": {
      "text/plain": [
       "Year    0\n",
       "Jan     0\n",
       "Feb     0\n",
       "Mar     0\n",
       "Apr     0\n",
       "May     0\n",
       "Jun     0\n",
       "Jul     0\n",
       "Aug     0\n",
       "Sep     0\n",
       "Oct     0\n",
       "Nov     0\n",
       "Dec     0\n",
       "dtype: int64"
      ]
     },
     "execution_count": 17,
     "metadata": {},
     "output_type": "execute_result"
    }
   ],
   "source": [
    "data.isnull().sum()"
   ]
  },
  {
   "cell_type": "code",
   "execution_count": 19,
   "metadata": {
    "id": "qJhxnnYQ5xAq"
   },
   "outputs": [],
   "source": [
    "data.rename(columns={\"Jan\":1,\"Feb\":2,\"Mar\":3,\"Apr\":4,\"May\":5,\"Jun\":6,\"Jul\":7,\"Aug\":8,\"Sep\":9,\"Oct\":10,\"Nov\":11,\"Dec\":12}, inplace = True)"
   ]
  },
  {
   "cell_type": "code",
   "execution_count": 20,
   "metadata": {
    "colab": {
     "base_uri": "https://localhost:8080/",
     "height": 206
    },
    "id": "5L2XZY1Q540S",
    "outputId": "f73e21f0-07b1-4df9-95cf-f3089fefbe07"
   },
   "outputs": [
    {
     "data": {
      "text/html": [
       "<div>\n",
       "<style scoped>\n",
       "    .dataframe tbody tr th:only-of-type {\n",
       "        vertical-align: middle;\n",
       "    }\n",
       "\n",
       "    .dataframe tbody tr th {\n",
       "        vertical-align: top;\n",
       "    }\n",
       "\n",
       "    .dataframe thead th {\n",
       "        text-align: right;\n",
       "    }\n",
       "</style>\n",
       "<table border=\"1\" class=\"dataframe\">\n",
       "  <thead>\n",
       "    <tr style=\"text-align: right;\">\n",
       "      <th></th>\n",
       "      <th>Year</th>\n",
       "      <th>1</th>\n",
       "      <th>2</th>\n",
       "      <th>3</th>\n",
       "      <th>4</th>\n",
       "      <th>5</th>\n",
       "      <th>6</th>\n",
       "      <th>7</th>\n",
       "      <th>8</th>\n",
       "      <th>9</th>\n",
       "      <th>10</th>\n",
       "      <th>11</th>\n",
       "      <th>12</th>\n",
       "    </tr>\n",
       "  </thead>\n",
       "  <tbody>\n",
       "    <tr>\n",
       "      <th>0</th>\n",
       "      <td>1901</td>\n",
       "      <td>9.65</td>\n",
       "      <td>11.38</td>\n",
       "      <td>16.27</td>\n",
       "      <td>20.56</td>\n",
       "      <td>23.29</td>\n",
       "      <td>25.00</td>\n",
       "      <td>23.68</td>\n",
       "      <td>22.61</td>\n",
       "      <td>22.00</td>\n",
       "      <td>19.52</td>\n",
       "      <td>14.28</td>\n",
       "      <td>10.93</td>\n",
       "    </tr>\n",
       "    <tr>\n",
       "      <th>1</th>\n",
       "      <td>1902</td>\n",
       "      <td>11.17</td>\n",
       "      <td>12.61</td>\n",
       "      <td>17.71</td>\n",
       "      <td>21.02</td>\n",
       "      <td>23.80</td>\n",
       "      <td>24.62</td>\n",
       "      <td>23.50</td>\n",
       "      <td>23.47</td>\n",
       "      <td>21.59</td>\n",
       "      <td>18.73</td>\n",
       "      <td>13.62</td>\n",
       "      <td>10.38</td>\n",
       "    </tr>\n",
       "    <tr>\n",
       "      <th>2</th>\n",
       "      <td>1903</td>\n",
       "      <td>10.34</td>\n",
       "      <td>11.57</td>\n",
       "      <td>15.54</td>\n",
       "      <td>20.21</td>\n",
       "      <td>22.93</td>\n",
       "      <td>24.90</td>\n",
       "      <td>23.84</td>\n",
       "      <td>22.73</td>\n",
       "      <td>21.83</td>\n",
       "      <td>18.53</td>\n",
       "      <td>13.20</td>\n",
       "      <td>10.00</td>\n",
       "    </tr>\n",
       "    <tr>\n",
       "      <th>3</th>\n",
       "      <td>1904</td>\n",
       "      <td>10.11</td>\n",
       "      <td>12.07</td>\n",
       "      <td>15.90</td>\n",
       "      <td>21.22</td>\n",
       "      <td>23.08</td>\n",
       "      <td>23.75</td>\n",
       "      <td>22.70</td>\n",
       "      <td>22.69</td>\n",
       "      <td>21.60</td>\n",
       "      <td>18.75</td>\n",
       "      <td>13.54</td>\n",
       "      <td>10.71</td>\n",
       "    </tr>\n",
       "    <tr>\n",
       "      <th>4</th>\n",
       "      <td>1905</td>\n",
       "      <td>9.24</td>\n",
       "      <td>10.28</td>\n",
       "      <td>14.63</td>\n",
       "      <td>18.76</td>\n",
       "      <td>23.72</td>\n",
       "      <td>25.21</td>\n",
       "      <td>23.45</td>\n",
       "      <td>23.12</td>\n",
       "      <td>21.86</td>\n",
       "      <td>19.01</td>\n",
       "      <td>14.63</td>\n",
       "      <td>10.50</td>\n",
       "    </tr>\n",
       "  </tbody>\n",
       "</table>\n",
       "</div>"
      ],
      "text/plain": [
       "   Year      1      2      3      4      5      6      7      8      9     10  \\\n",
       "0  1901   9.65  11.38  16.27  20.56  23.29  25.00  23.68  22.61  22.00  19.52   \n",
       "1  1902  11.17  12.61  17.71  21.02  23.80  24.62  23.50  23.47  21.59  18.73   \n",
       "2  1903  10.34  11.57  15.54  20.21  22.93  24.90  23.84  22.73  21.83  18.53   \n",
       "3  1904  10.11  12.07  15.90  21.22  23.08  23.75  22.70  22.69  21.60  18.75   \n",
       "4  1905   9.24  10.28  14.63  18.76  23.72  25.21  23.45  23.12  21.86  19.01   \n",
       "\n",
       "      11     12  \n",
       "0  14.28  10.93  \n",
       "1  13.62  10.38  \n",
       "2  13.20  10.00  \n",
       "3  13.54  10.71  \n",
       "4  14.63  10.50  "
      ]
     },
     "execution_count": 20,
     "metadata": {},
     "output_type": "execute_result"
    }
   ],
   "source": [
    "data.head()"
   ]
  },
  {
   "cell_type": "code",
   "execution_count": 22,
   "metadata": {
    "colab": {
     "base_uri": "https://localhost:8080/",
     "height": 206
    },
    "id": "bUdtcyuR8enQ",
    "outputId": "7214580c-cc75-46b7-a935-e361e9dbf7e1"
   },
   "outputs": [
    {
     "data": {
      "text/html": [
       "<div>\n",
       "<style scoped>\n",
       "    .dataframe tbody tr th:only-of-type {\n",
       "        vertical-align: middle;\n",
       "    }\n",
       "\n",
       "    .dataframe tbody tr th {\n",
       "        vertical-align: top;\n",
       "    }\n",
       "\n",
       "    .dataframe thead th {\n",
       "        text-align: right;\n",
       "    }\n",
       "</style>\n",
       "<table border=\"1\" class=\"dataframe\">\n",
       "  <thead>\n",
       "    <tr style=\"text-align: right;\">\n",
       "      <th></th>\n",
       "      <th>Unnamed: 0</th>\n",
       "      <th>YEAR</th>\n",
       "      <th>JAN</th>\n",
       "      <th>FEB</th>\n",
       "      <th>MAR</th>\n",
       "      <th>APR</th>\n",
       "      <th>MAY</th>\n",
       "      <th>JUN</th>\n",
       "      <th>JUL</th>\n",
       "      <th>AUG</th>\n",
       "      <th>SEP</th>\n",
       "      <th>OCT</th>\n",
       "      <th>NOV</th>\n",
       "      <th>DEC</th>\n",
       "    </tr>\n",
       "  </thead>\n",
       "  <tbody>\n",
       "    <tr>\n",
       "      <th>0</th>\n",
       "      <td>0</td>\n",
       "      <td>1901</td>\n",
       "      <td>17.99</td>\n",
       "      <td>19.43</td>\n",
       "      <td>23.49</td>\n",
       "      <td>26.41</td>\n",
       "      <td>28.28</td>\n",
       "      <td>28.60</td>\n",
       "      <td>27.49</td>\n",
       "      <td>26.98</td>\n",
       "      <td>26.26</td>\n",
       "      <td>25.08</td>\n",
       "      <td>21.73</td>\n",
       "      <td>18.95</td>\n",
       "    </tr>\n",
       "    <tr>\n",
       "      <th>1</th>\n",
       "      <td>1</td>\n",
       "      <td>1902</td>\n",
       "      <td>19.00</td>\n",
       "      <td>20.39</td>\n",
       "      <td>24.10</td>\n",
       "      <td>26.54</td>\n",
       "      <td>28.68</td>\n",
       "      <td>28.44</td>\n",
       "      <td>27.29</td>\n",
       "      <td>27.05</td>\n",
       "      <td>25.95</td>\n",
       "      <td>24.37</td>\n",
       "      <td>21.33</td>\n",
       "      <td>18.78</td>\n",
       "    </tr>\n",
       "    <tr>\n",
       "      <th>2</th>\n",
       "      <td>2</td>\n",
       "      <td>1903</td>\n",
       "      <td>18.32</td>\n",
       "      <td>19.79</td>\n",
       "      <td>22.46</td>\n",
       "      <td>26.03</td>\n",
       "      <td>27.93</td>\n",
       "      <td>28.41</td>\n",
       "      <td>28.04</td>\n",
       "      <td>26.63</td>\n",
       "      <td>26.34</td>\n",
       "      <td>24.57</td>\n",
       "      <td>20.96</td>\n",
       "      <td>18.29</td>\n",
       "    </tr>\n",
       "    <tr>\n",
       "      <th>3</th>\n",
       "      <td>3</td>\n",
       "      <td>1904</td>\n",
       "      <td>17.77</td>\n",
       "      <td>19.39</td>\n",
       "      <td>22.95</td>\n",
       "      <td>26.73</td>\n",
       "      <td>27.83</td>\n",
       "      <td>27.85</td>\n",
       "      <td>26.84</td>\n",
       "      <td>26.73</td>\n",
       "      <td>25.84</td>\n",
       "      <td>24.36</td>\n",
       "      <td>21.07</td>\n",
       "      <td>18.84</td>\n",
       "    </tr>\n",
       "    <tr>\n",
       "      <th>4</th>\n",
       "      <td>4</td>\n",
       "      <td>1905</td>\n",
       "      <td>17.40</td>\n",
       "      <td>17.79</td>\n",
       "      <td>21.78</td>\n",
       "      <td>24.84</td>\n",
       "      <td>28.32</td>\n",
       "      <td>28.69</td>\n",
       "      <td>27.67</td>\n",
       "      <td>27.47</td>\n",
       "      <td>26.29</td>\n",
       "      <td>26.16</td>\n",
       "      <td>22.07</td>\n",
       "      <td>18.71</td>\n",
       "    </tr>\n",
       "  </tbody>\n",
       "</table>\n",
       "</div>"
      ],
      "text/plain": [
       "   Unnamed: 0  YEAR    JAN    FEB    MAR    APR    MAY    JUN    JUL    AUG  \\\n",
       "0           0  1901  17.99  19.43  23.49  26.41  28.28  28.60  27.49  26.98   \n",
       "1           1  1902  19.00  20.39  24.10  26.54  28.68  28.44  27.29  27.05   \n",
       "2           2  1903  18.32  19.79  22.46  26.03  27.93  28.41  28.04  26.63   \n",
       "3           3  1904  17.77  19.39  22.95  26.73  27.83  27.85  26.84  26.73   \n",
       "4           4  1905  17.40  17.79  21.78  24.84  28.32  28.69  27.67  27.47   \n",
       "\n",
       "     SEP    OCT    NOV    DEC  \n",
       "0  26.26  25.08  21.73  18.95  \n",
       "1  25.95  24.37  21.33  18.78  \n",
       "2  26.34  24.57  20.96  18.29  \n",
       "3  25.84  24.36  21.07  18.84  \n",
       "4  26.29  26.16  22.07  18.71  "
      ]
     },
     "execution_count": 22,
     "metadata": {},
     "output_type": "execute_result"
    }
   ],
   "source": [
    "windspeed=pd.read_csv(\"windspeed.csv\")\n",
    "windspeed.head()"
   ]
  },
  {
   "cell_type": "code",
   "execution_count": 23,
   "metadata": {
    "colab": {
     "base_uri": "https://localhost:8080/"
    },
    "id": "1zKKuJou84Eo",
    "outputId": "de6fdae6-2bcc-4399-cc0c-2457e11700df"
   },
   "outputs": [
    {
     "data": {
      "text/plain": [
       "Unnamed: 0    117\n",
       "YEAR          117\n",
       "JAN           117\n",
       "FEB           117\n",
       "MAR           117\n",
       "APR           117\n",
       "MAY           117\n",
       "JUN           117\n",
       "JUL           117\n",
       "AUG           117\n",
       "SEP           117\n",
       "OCT           117\n",
       "NOV           117\n",
       "DEC           117\n",
       "dtype: int64"
      ]
     },
     "execution_count": 23,
     "metadata": {},
     "output_type": "execute_result"
    }
   ],
   "source": [
    "windspeed.count()"
   ]
  },
  {
   "cell_type": "code",
   "execution_count": 24,
   "metadata": {
    "colab": {
     "base_uri": "https://localhost:8080/"
    },
    "id": "uJXaTtbm9CRA",
    "outputId": "b137aaa9-3e1d-4e94-d451-77ba40dd9320"
   },
   "outputs": [
    {
     "data": {
      "text/plain": [
       "Unnamed: 0    0\n",
       "YEAR          0\n",
       "JAN           0\n",
       "FEB           0\n",
       "MAR           0\n",
       "APR           0\n",
       "MAY           0\n",
       "JUN           0\n",
       "JUL           0\n",
       "AUG           0\n",
       "SEP           0\n",
       "OCT           0\n",
       "NOV           0\n",
       "DEC           0\n",
       "dtype: int64"
      ]
     },
     "execution_count": 24,
     "metadata": {},
     "output_type": "execute_result"
    }
   ],
   "source": [
    "windspeed.isnull().sum()"
   ]
  },
  {
   "cell_type": "code",
   "execution_count": 25,
   "metadata": {
    "colab": {
     "base_uri": "https://localhost:8080/",
     "height": 206
    },
    "id": "XG1aZewJ9LcX",
    "outputId": "20135d08-9b42-4a02-a3f7-066d16d64a7f"
   },
   "outputs": [
    {
     "data": {
      "text/html": [
       "<div>\n",
       "<style scoped>\n",
       "    .dataframe tbody tr th:only-of-type {\n",
       "        vertical-align: middle;\n",
       "    }\n",
       "\n",
       "    .dataframe tbody tr th {\n",
       "        vertical-align: top;\n",
       "    }\n",
       "\n",
       "    .dataframe thead th {\n",
       "        text-align: right;\n",
       "    }\n",
       "</style>\n",
       "<table border=\"1\" class=\"dataframe\">\n",
       "  <thead>\n",
       "    <tr style=\"text-align: right;\">\n",
       "      <th></th>\n",
       "      <th>Unnamed: 0</th>\n",
       "      <th>YEAR</th>\n",
       "      <th>JAN</th>\n",
       "      <th>FEB</th>\n",
       "      <th>MAR</th>\n",
       "      <th>APR</th>\n",
       "      <th>MAY</th>\n",
       "      <th>JUN</th>\n",
       "      <th>JUL</th>\n",
       "      <th>AUG</th>\n",
       "      <th>SEP</th>\n",
       "      <th>OCT</th>\n",
       "      <th>NOV</th>\n",
       "      <th>DEC</th>\n",
       "    </tr>\n",
       "  </thead>\n",
       "  <tbody>\n",
       "    <tr>\n",
       "      <th>0</th>\n",
       "      <td>0</td>\n",
       "      <td>1901</td>\n",
       "      <td>17.99</td>\n",
       "      <td>19.43</td>\n",
       "      <td>23.49</td>\n",
       "      <td>26.41</td>\n",
       "      <td>28.28</td>\n",
       "      <td>28.60</td>\n",
       "      <td>27.49</td>\n",
       "      <td>26.98</td>\n",
       "      <td>26.26</td>\n",
       "      <td>25.08</td>\n",
       "      <td>21.73</td>\n",
       "      <td>18.95</td>\n",
       "    </tr>\n",
       "    <tr>\n",
       "      <th>1</th>\n",
       "      <td>1</td>\n",
       "      <td>1902</td>\n",
       "      <td>19.00</td>\n",
       "      <td>20.39</td>\n",
       "      <td>24.10</td>\n",
       "      <td>26.54</td>\n",
       "      <td>28.68</td>\n",
       "      <td>28.44</td>\n",
       "      <td>27.29</td>\n",
       "      <td>27.05</td>\n",
       "      <td>25.95</td>\n",
       "      <td>24.37</td>\n",
       "      <td>21.33</td>\n",
       "      <td>18.78</td>\n",
       "    </tr>\n",
       "    <tr>\n",
       "      <th>2</th>\n",
       "      <td>2</td>\n",
       "      <td>1903</td>\n",
       "      <td>18.32</td>\n",
       "      <td>19.79</td>\n",
       "      <td>22.46</td>\n",
       "      <td>26.03</td>\n",
       "      <td>27.93</td>\n",
       "      <td>28.41</td>\n",
       "      <td>28.04</td>\n",
       "      <td>26.63</td>\n",
       "      <td>26.34</td>\n",
       "      <td>24.57</td>\n",
       "      <td>20.96</td>\n",
       "      <td>18.29</td>\n",
       "    </tr>\n",
       "    <tr>\n",
       "      <th>3</th>\n",
       "      <td>3</td>\n",
       "      <td>1904</td>\n",
       "      <td>17.77</td>\n",
       "      <td>19.39</td>\n",
       "      <td>22.95</td>\n",
       "      <td>26.73</td>\n",
       "      <td>27.83</td>\n",
       "      <td>27.85</td>\n",
       "      <td>26.84</td>\n",
       "      <td>26.73</td>\n",
       "      <td>25.84</td>\n",
       "      <td>24.36</td>\n",
       "      <td>21.07</td>\n",
       "      <td>18.84</td>\n",
       "    </tr>\n",
       "    <tr>\n",
       "      <th>4</th>\n",
       "      <td>4</td>\n",
       "      <td>1905</td>\n",
       "      <td>17.40</td>\n",
       "      <td>17.79</td>\n",
       "      <td>21.78</td>\n",
       "      <td>24.84</td>\n",
       "      <td>28.32</td>\n",
       "      <td>28.69</td>\n",
       "      <td>27.67</td>\n",
       "      <td>27.47</td>\n",
       "      <td>26.29</td>\n",
       "      <td>26.16</td>\n",
       "      <td>22.07</td>\n",
       "      <td>18.71</td>\n",
       "    </tr>\n",
       "  </tbody>\n",
       "</table>\n",
       "</div>"
      ],
      "text/plain": [
       "   Unnamed: 0  YEAR    JAN    FEB    MAR    APR    MAY    JUN    JUL    AUG  \\\n",
       "0           0  1901  17.99  19.43  23.49  26.41  28.28  28.60  27.49  26.98   \n",
       "1           1  1902  19.00  20.39  24.10  26.54  28.68  28.44  27.29  27.05   \n",
       "2           2  1903  18.32  19.79  22.46  26.03  27.93  28.41  28.04  26.63   \n",
       "3           3  1904  17.77  19.39  22.95  26.73  27.83  27.85  26.84  26.73   \n",
       "4           4  1905  17.40  17.79  21.78  24.84  28.32  28.69  27.67  27.47   \n",
       "\n",
       "     SEP    OCT    NOV    DEC  \n",
       "0  26.26  25.08  21.73  18.95  \n",
       "1  25.95  24.37  21.33  18.78  \n",
       "2  26.34  24.57  20.96  18.29  \n",
       "3  25.84  24.36  21.07  18.84  \n",
       "4  26.29  26.16  22.07  18.71  "
      ]
     },
     "execution_count": 25,
     "metadata": {},
     "output_type": "execute_result"
    }
   ],
   "source": [
    "windspeed.rename(columns={\"Year\":\"Year\",\"Jan\":1,\"Feb\":2,\"Mar\":3,\"Apr\":4,\"May\":5,\"Jun\":6,\"Jul\":7,\"Aug\":8,\"Sep\":9,\"Oct\":10,\"Nov\":11,\"Dec\":12}, inplace = True)\n",
    "windspeed.head()"
   ]
  },
  {
   "cell_type": "code",
   "execution_count": 27,
   "metadata": {
    "colab": {
     "base_uri": "https://localhost:8080/",
     "height": 250
    },
    "id": "xuqJOV3W9aI8",
    "outputId": "6fecef59-11c2-46eb-e984-bc34c182a51d"
   },
   "outputs": [
    {
     "data": {
      "text/html": [
       "<div>\n",
       "<style scoped>\n",
       "    .dataframe tbody tr th:only-of-type {\n",
       "        vertical-align: middle;\n",
       "    }\n",
       "\n",
       "    .dataframe tbody tr th {\n",
       "        vertical-align: top;\n",
       "    }\n",
       "\n",
       "    .dataframe thead th {\n",
       "        text-align: right;\n",
       "    }\n",
       "</style>\n",
       "<table border=\"1\" class=\"dataframe\">\n",
       "  <thead>\n",
       "    <tr style=\"text-align: right;\">\n",
       "      <th></th>\n",
       "      <th>DIVISION</th>\n",
       "      <th>YEAR</th>\n",
       "      <th>JAN</th>\n",
       "      <th>FEB</th>\n",
       "      <th>MAR</th>\n",
       "      <th>APR</th>\n",
       "      <th>MAY</th>\n",
       "      <th>JUN</th>\n",
       "      <th>JUL</th>\n",
       "      <th>AUG</th>\n",
       "      <th>SEP</th>\n",
       "      <th>OCT</th>\n",
       "      <th>NOV</th>\n",
       "      <th>DEC</th>\n",
       "      <th>ANNUAL</th>\n",
       "      <th>Jan-Feb</th>\n",
       "      <th>Mar-May</th>\n",
       "      <th>Jun-Sep</th>\n",
       "      <th>Oct-Dec</th>\n",
       "    </tr>\n",
       "  </thead>\n",
       "  <tbody>\n",
       "    <tr>\n",
       "      <th>0</th>\n",
       "      <td>ANDAMAN &amp; NICOBAR ISLANDS</td>\n",
       "      <td>1901</td>\n",
       "      <td>49.2</td>\n",
       "      <td>87.1</td>\n",
       "      <td>29.2</td>\n",
       "      <td>2.3</td>\n",
       "      <td>528.8</td>\n",
       "      <td>517.5</td>\n",
       "      <td>365.1</td>\n",
       "      <td>481.1</td>\n",
       "      <td>332.6</td>\n",
       "      <td>388.5</td>\n",
       "      <td>558.2</td>\n",
       "      <td>33.6</td>\n",
       "      <td>3373.2</td>\n",
       "      <td>136.3</td>\n",
       "      <td>560.3</td>\n",
       "      <td>1696.3</td>\n",
       "      <td>980.3</td>\n",
       "    </tr>\n",
       "    <tr>\n",
       "      <th>1</th>\n",
       "      <td>ANDAMAN &amp; NICOBAR ISLANDS</td>\n",
       "      <td>1902</td>\n",
       "      <td>0.0</td>\n",
       "      <td>159.8</td>\n",
       "      <td>12.2</td>\n",
       "      <td>0.0</td>\n",
       "      <td>446.1</td>\n",
       "      <td>537.1</td>\n",
       "      <td>228.9</td>\n",
       "      <td>753.7</td>\n",
       "      <td>666.2</td>\n",
       "      <td>197.2</td>\n",
       "      <td>359.0</td>\n",
       "      <td>160.5</td>\n",
       "      <td>3520.7</td>\n",
       "      <td>159.8</td>\n",
       "      <td>458.3</td>\n",
       "      <td>2185.9</td>\n",
       "      <td>716.7</td>\n",
       "    </tr>\n",
       "    <tr>\n",
       "      <th>2</th>\n",
       "      <td>ANDAMAN &amp; NICOBAR ISLANDS</td>\n",
       "      <td>1903</td>\n",
       "      <td>12.7</td>\n",
       "      <td>144.0</td>\n",
       "      <td>0.0</td>\n",
       "      <td>1.0</td>\n",
       "      <td>235.1</td>\n",
       "      <td>479.9</td>\n",
       "      <td>728.4</td>\n",
       "      <td>326.7</td>\n",
       "      <td>339.0</td>\n",
       "      <td>181.2</td>\n",
       "      <td>284.4</td>\n",
       "      <td>225.0</td>\n",
       "      <td>2957.4</td>\n",
       "      <td>156.7</td>\n",
       "      <td>236.1</td>\n",
       "      <td>1874.0</td>\n",
       "      <td>690.6</td>\n",
       "    </tr>\n",
       "    <tr>\n",
       "      <th>3</th>\n",
       "      <td>ANDAMAN &amp; NICOBAR ISLANDS</td>\n",
       "      <td>1904</td>\n",
       "      <td>9.4</td>\n",
       "      <td>14.7</td>\n",
       "      <td>0.0</td>\n",
       "      <td>202.4</td>\n",
       "      <td>304.5</td>\n",
       "      <td>495.1</td>\n",
       "      <td>502.0</td>\n",
       "      <td>160.1</td>\n",
       "      <td>820.4</td>\n",
       "      <td>222.2</td>\n",
       "      <td>308.7</td>\n",
       "      <td>40.1</td>\n",
       "      <td>3079.6</td>\n",
       "      <td>24.1</td>\n",
       "      <td>506.9</td>\n",
       "      <td>1977.6</td>\n",
       "      <td>571.0</td>\n",
       "    </tr>\n",
       "    <tr>\n",
       "      <th>4</th>\n",
       "      <td>ANDAMAN &amp; NICOBAR ISLANDS</td>\n",
       "      <td>1905</td>\n",
       "      <td>1.3</td>\n",
       "      <td>0.0</td>\n",
       "      <td>3.3</td>\n",
       "      <td>26.9</td>\n",
       "      <td>279.5</td>\n",
       "      <td>628.7</td>\n",
       "      <td>368.7</td>\n",
       "      <td>330.5</td>\n",
       "      <td>297.0</td>\n",
       "      <td>260.7</td>\n",
       "      <td>25.4</td>\n",
       "      <td>344.7</td>\n",
       "      <td>2566.7</td>\n",
       "      <td>1.3</td>\n",
       "      <td>309.7</td>\n",
       "      <td>1624.9</td>\n",
       "      <td>630.8</td>\n",
       "    </tr>\n",
       "  </tbody>\n",
       "</table>\n",
       "</div>"
      ],
      "text/plain": [
       "                    DIVISION  YEAR   JAN    FEB   MAR    APR    MAY    JUN  \\\n",
       "0  ANDAMAN & NICOBAR ISLANDS  1901  49.2   87.1  29.2    2.3  528.8  517.5   \n",
       "1  ANDAMAN & NICOBAR ISLANDS  1902   0.0  159.8  12.2    0.0  446.1  537.1   \n",
       "2  ANDAMAN & NICOBAR ISLANDS  1903  12.7  144.0   0.0    1.0  235.1  479.9   \n",
       "3  ANDAMAN & NICOBAR ISLANDS  1904   9.4   14.7   0.0  202.4  304.5  495.1   \n",
       "4  ANDAMAN & NICOBAR ISLANDS  1905   1.3    0.0   3.3   26.9  279.5  628.7   \n",
       "\n",
       "     JUL    AUG    SEP    OCT    NOV    DEC  ANNUAL  Jan-Feb  Mar-May  \\\n",
       "0  365.1  481.1  332.6  388.5  558.2   33.6  3373.2    136.3    560.3   \n",
       "1  228.9  753.7  666.2  197.2  359.0  160.5  3520.7    159.8    458.3   \n",
       "2  728.4  326.7  339.0  181.2  284.4  225.0  2957.4    156.7    236.1   \n",
       "3  502.0  160.1  820.4  222.2  308.7   40.1  3079.6     24.1    506.9   \n",
       "4  368.7  330.5  297.0  260.7   25.4  344.7  2566.7      1.3    309.7   \n",
       "\n",
       "   Jun-Sep  Oct-Dec  \n",
       "0   1696.3    980.3  \n",
       "1   2185.9    716.7  \n",
       "2   1874.0    690.6  \n",
       "3   1977.6    571.0  \n",
       "4   1624.9    630.8  "
      ]
     },
     "execution_count": 27,
     "metadata": {},
     "output_type": "execute_result"
    }
   ],
   "source": [
    "pressure=pd.read_csv(\"Pressure.csv\")\n",
    "pressure.head()"
   ]
  },
  {
   "cell_type": "code",
   "execution_count": 28,
   "metadata": {
    "colab": {
     "base_uri": "https://localhost:8080/"
    },
    "id": "FvJCGKGp9sUR",
    "outputId": "70bd229a-3d52-4226-fdd1-69fccc871eec"
   },
   "outputs": [
    {
     "data": {
      "text/plain": [
       "DIVISION    4116\n",
       "YEAR        4116\n",
       "JAN         4112\n",
       "FEB         4113\n",
       "MAR         4110\n",
       "APR         4112\n",
       "MAY         4113\n",
       "JUN         4111\n",
       "JUL         4109\n",
       "AUG         4112\n",
       "SEP         4110\n",
       "OCT         4109\n",
       "NOV         4105\n",
       "DEC         4106\n",
       "ANNUAL      4090\n",
       "Jan-Feb     4110\n",
       "Mar-May     4107\n",
       "Jun-Sep     4106\n",
       "Oct-Dec     4103\n",
       "dtype: int64"
      ]
     },
     "execution_count": 28,
     "metadata": {},
     "output_type": "execute_result"
    }
   ],
   "source": [
    "pressure.count()"
   ]
  },
  {
   "cell_type": "code",
   "execution_count": 29,
   "metadata": {
    "colab": {
     "base_uri": "https://localhost:8080/"
    },
    "id": "JE2hYH6X9zMc",
    "outputId": "5df66b46-6850-4acf-b5ca-0a96aa48da6e"
   },
   "outputs": [
    {
     "data": {
      "text/plain": [
       "DIVISION     0\n",
       "YEAR         0\n",
       "JAN          4\n",
       "FEB          3\n",
       "MAR          6\n",
       "APR          4\n",
       "MAY          3\n",
       "JUN          5\n",
       "JUL          7\n",
       "AUG          4\n",
       "SEP          6\n",
       "OCT          7\n",
       "NOV         11\n",
       "DEC         10\n",
       "ANNUAL      26\n",
       "Jan-Feb      6\n",
       "Mar-May      9\n",
       "Jun-Sep     10\n",
       "Oct-Dec     13\n",
       "dtype: int64"
      ]
     },
     "execution_count": 29,
     "metadata": {},
     "output_type": "execute_result"
    }
   ],
   "source": [
    "pressure.isnull().sum()"
   ]
  },
  {
   "cell_type": "code",
   "execution_count": 30,
   "metadata": {
    "colab": {
     "base_uri": "https://localhost:8080/",
     "height": 250
    },
    "id": "Xk95ahYM98oa",
    "outputId": "ad67c73c-d21c-4b54-b154-814d102c8e49"
   },
   "outputs": [
    {
     "data": {
      "text/html": [
       "<div>\n",
       "<style scoped>\n",
       "    .dataframe tbody tr th:only-of-type {\n",
       "        vertical-align: middle;\n",
       "    }\n",
       "\n",
       "    .dataframe tbody tr th {\n",
       "        vertical-align: top;\n",
       "    }\n",
       "\n",
       "    .dataframe thead th {\n",
       "        text-align: right;\n",
       "    }\n",
       "</style>\n",
       "<table border=\"1\" class=\"dataframe\">\n",
       "  <thead>\n",
       "    <tr style=\"text-align: right;\">\n",
       "      <th></th>\n",
       "      <th>DIVISION</th>\n",
       "      <th>YEAR</th>\n",
       "      <th>JAN</th>\n",
       "      <th>FEB</th>\n",
       "      <th>MAR</th>\n",
       "      <th>APR</th>\n",
       "      <th>MAY</th>\n",
       "      <th>JUN</th>\n",
       "      <th>JUL</th>\n",
       "      <th>AUG</th>\n",
       "      <th>SEP</th>\n",
       "      <th>OCT</th>\n",
       "      <th>NOV</th>\n",
       "      <th>DEC</th>\n",
       "      <th>ANNUAL</th>\n",
       "      <th>Jan-Feb</th>\n",
       "      <th>Mar-May</th>\n",
       "      <th>Jun-Sep</th>\n",
       "      <th>Oct-Dec</th>\n",
       "    </tr>\n",
       "  </thead>\n",
       "  <tbody>\n",
       "    <tr>\n",
       "      <th>0</th>\n",
       "      <td>ANDAMAN &amp; NICOBAR ISLANDS</td>\n",
       "      <td>1901</td>\n",
       "      <td>49.2</td>\n",
       "      <td>87.1</td>\n",
       "      <td>29.2</td>\n",
       "      <td>2.3</td>\n",
       "      <td>528.8</td>\n",
       "      <td>517.5</td>\n",
       "      <td>365.1</td>\n",
       "      <td>481.1</td>\n",
       "      <td>332.6</td>\n",
       "      <td>388.5</td>\n",
       "      <td>558.2</td>\n",
       "      <td>33.6</td>\n",
       "      <td>3373.2</td>\n",
       "      <td>136.3</td>\n",
       "      <td>560.3</td>\n",
       "      <td>1696.3</td>\n",
       "      <td>980.3</td>\n",
       "    </tr>\n",
       "    <tr>\n",
       "      <th>1</th>\n",
       "      <td>ANDAMAN &amp; NICOBAR ISLANDS</td>\n",
       "      <td>1902</td>\n",
       "      <td>0.0</td>\n",
       "      <td>159.8</td>\n",
       "      <td>12.2</td>\n",
       "      <td>0.0</td>\n",
       "      <td>446.1</td>\n",
       "      <td>537.1</td>\n",
       "      <td>228.9</td>\n",
       "      <td>753.7</td>\n",
       "      <td>666.2</td>\n",
       "      <td>197.2</td>\n",
       "      <td>359.0</td>\n",
       "      <td>160.5</td>\n",
       "      <td>3520.7</td>\n",
       "      <td>159.8</td>\n",
       "      <td>458.3</td>\n",
       "      <td>2185.9</td>\n",
       "      <td>716.7</td>\n",
       "    </tr>\n",
       "    <tr>\n",
       "      <th>2</th>\n",
       "      <td>ANDAMAN &amp; NICOBAR ISLANDS</td>\n",
       "      <td>1903</td>\n",
       "      <td>12.7</td>\n",
       "      <td>144.0</td>\n",
       "      <td>0.0</td>\n",
       "      <td>1.0</td>\n",
       "      <td>235.1</td>\n",
       "      <td>479.9</td>\n",
       "      <td>728.4</td>\n",
       "      <td>326.7</td>\n",
       "      <td>339.0</td>\n",
       "      <td>181.2</td>\n",
       "      <td>284.4</td>\n",
       "      <td>225.0</td>\n",
       "      <td>2957.4</td>\n",
       "      <td>156.7</td>\n",
       "      <td>236.1</td>\n",
       "      <td>1874.0</td>\n",
       "      <td>690.6</td>\n",
       "    </tr>\n",
       "    <tr>\n",
       "      <th>3</th>\n",
       "      <td>ANDAMAN &amp; NICOBAR ISLANDS</td>\n",
       "      <td>1904</td>\n",
       "      <td>9.4</td>\n",
       "      <td>14.7</td>\n",
       "      <td>0.0</td>\n",
       "      <td>202.4</td>\n",
       "      <td>304.5</td>\n",
       "      <td>495.1</td>\n",
       "      <td>502.0</td>\n",
       "      <td>160.1</td>\n",
       "      <td>820.4</td>\n",
       "      <td>222.2</td>\n",
       "      <td>308.7</td>\n",
       "      <td>40.1</td>\n",
       "      <td>3079.6</td>\n",
       "      <td>24.1</td>\n",
       "      <td>506.9</td>\n",
       "      <td>1977.6</td>\n",
       "      <td>571.0</td>\n",
       "    </tr>\n",
       "    <tr>\n",
       "      <th>4</th>\n",
       "      <td>ANDAMAN &amp; NICOBAR ISLANDS</td>\n",
       "      <td>1905</td>\n",
       "      <td>1.3</td>\n",
       "      <td>0.0</td>\n",
       "      <td>3.3</td>\n",
       "      <td>26.9</td>\n",
       "      <td>279.5</td>\n",
       "      <td>628.7</td>\n",
       "      <td>368.7</td>\n",
       "      <td>330.5</td>\n",
       "      <td>297.0</td>\n",
       "      <td>260.7</td>\n",
       "      <td>25.4</td>\n",
       "      <td>344.7</td>\n",
       "      <td>2566.7</td>\n",
       "      <td>1.3</td>\n",
       "      <td>309.7</td>\n",
       "      <td>1624.9</td>\n",
       "      <td>630.8</td>\n",
       "    </tr>\n",
       "  </tbody>\n",
       "</table>\n",
       "</div>"
      ],
      "text/plain": [
       "                    DIVISION  YEAR   JAN    FEB   MAR    APR    MAY    JUN  \\\n",
       "0  ANDAMAN & NICOBAR ISLANDS  1901  49.2   87.1  29.2    2.3  528.8  517.5   \n",
       "1  ANDAMAN & NICOBAR ISLANDS  1902   0.0  159.8  12.2    0.0  446.1  537.1   \n",
       "2  ANDAMAN & NICOBAR ISLANDS  1903  12.7  144.0   0.0    1.0  235.1  479.9   \n",
       "3  ANDAMAN & NICOBAR ISLANDS  1904   9.4   14.7   0.0  202.4  304.5  495.1   \n",
       "4  ANDAMAN & NICOBAR ISLANDS  1905   1.3    0.0   3.3   26.9  279.5  628.7   \n",
       "\n",
       "     JUL    AUG    SEP    OCT    NOV    DEC  ANNUAL  Jan-Feb  Mar-May  \\\n",
       "0  365.1  481.1  332.6  388.5  558.2   33.6  3373.2    136.3    560.3   \n",
       "1  228.9  753.7  666.2  197.2  359.0  160.5  3520.7    159.8    458.3   \n",
       "2  728.4  326.7  339.0  181.2  284.4  225.0  2957.4    156.7    236.1   \n",
       "3  502.0  160.1  820.4  222.2  308.7   40.1  3079.6     24.1    506.9   \n",
       "4  368.7  330.5  297.0  260.7   25.4  344.7  2566.7      1.3    309.7   \n",
       "\n",
       "   Jun-Sep  Oct-Dec  \n",
       "0   1696.3    980.3  \n",
       "1   2185.9    716.7  \n",
       "2   1874.0    690.6  \n",
       "3   1977.6    571.0  \n",
       "4   1624.9    630.8  "
      ]
     },
     "execution_count": 30,
     "metadata": {},
     "output_type": "execute_result"
    }
   ],
   "source": [
    "pressure.rename(columns={\"Year\":\"Year\",\"Jan\":1,\"Feb\":2,\"Mar\":3,\"Apr\":4,\"May\":5,\"Jun\":6,\"Jul\":7,\"Aug\":8,\"Sep\":9,\"Oct\":10,\"Nov\":11,\"Dec\":12}, inplace = True)\n",
    "pressure.head()"
   ]
  },
  {
   "cell_type": "code",
   "execution_count": 31,
   "metadata": {
    "colab": {
     "base_uri": "https://localhost:8080/",
     "height": 49
    },
    "id": "wBbahi2d_hbC",
    "outputId": "f506686d-1001-44cb-abd3-c699910b2853"
   },
   "outputs": [
    {
     "data": {
      "text/html": [
       "<div>\n",
       "<style scoped>\n",
       "    .dataframe tbody tr th:only-of-type {\n",
       "        vertical-align: middle;\n",
       "    }\n",
       "\n",
       "    .dataframe tbody tr th {\n",
       "        vertical-align: top;\n",
       "    }\n",
       "\n",
       "    .dataframe thead th {\n",
       "        text-align: right;\n",
       "    }\n",
       "</style>\n",
       "<table border=\"1\" class=\"dataframe\">\n",
       "  <thead>\n",
       "    <tr style=\"text-align: right;\">\n",
       "      <th></th>\n",
       "      <th>pressure</th>\n",
       "      <th>windspeed</th>\n",
       "      <th>rainfall</th>\n",
       "    </tr>\n",
       "  </thead>\n",
       "  <tbody>\n",
       "  </tbody>\n",
       "</table>\n",
       "</div>"
      ],
      "text/plain": [
       "Empty DataFrame\n",
       "Columns: [pressure, windspeed, rainfall]\n",
       "Index: []"
      ]
     },
     "execution_count": 31,
     "metadata": {},
     "output_type": "execute_result"
    }
   ],
   "source": [
    "nt=pd.DataFrame({\"pressure\":[],\"windspeed\":[],\"rainfall\":[]})\n",
    "nt"
   ]
  },
  {
   "cell_type": "code",
   "execution_count": 36,
   "metadata": {
    "colab": {
     "base_uri": "https://localhost:8080/",
     "height": 49
    },
    "id": "FPvftjCf_3Ik",
    "outputId": "ab33deaf-3795-4dac-8fca-af6cb902576a"
   },
   "outputs": [
    {
     "data": {
      "text/html": [
       "<div>\n",
       "<style scoped>\n",
       "    .dataframe tbody tr th:only-of-type {\n",
       "        vertical-align: middle;\n",
       "    }\n",
       "\n",
       "    .dataframe tbody tr th {\n",
       "        vertical-align: top;\n",
       "    }\n",
       "\n",
       "    .dataframe thead th {\n",
       "        text-align: right;\n",
       "    }\n",
       "</style>\n",
       "<table border=\"1\" class=\"dataframe\">\n",
       "  <thead>\n",
       "    <tr style=\"text-align: right;\">\n",
       "      <th></th>\n",
       "      <th>pressure</th>\n",
       "    </tr>\n",
       "  </thead>\n",
       "  <tbody>\n",
       "  </tbody>\n",
       "</table>\n",
       "</div>"
      ],
      "text/plain": [
       "Empty DataFrame\n",
       "Columns: [pressure]\n",
       "Index: []"
      ]
     },
     "execution_count": 36,
     "metadata": {},
     "output_type": "execute_result"
    }
   ],
   "source": [
    "asp=pd.DataFrame({\"pressure\":[]})\n",
    "asp"
   ]
  },
  {
   "cell_type": "code",
   "execution_count": 38,
   "metadata": {
    "colab": {
     "base_uri": "https://localhost:8080/"
    },
    "id": "piIpn5BZAN9T",
    "outputId": "f5ffbcc1-bce7-47c6-be9e-32f597baf330"
   },
   "outputs": [
    {
     "data": {
      "text/plain": [
       "pressure     0\n",
       "windspeed    0\n",
       "rainfall     0\n",
       "dtype: int64"
      ]
     },
     "execution_count": 38,
     "metadata": {},
     "output_type": "execute_result"
    }
   ],
   "source": [
    "nt.count()"
   ]
  },
  {
   "cell_type": "code",
   "execution_count": 39,
   "metadata": {
    "colab": {
     "base_uri": "https://localhost:8080/"
    },
    "id": "WTdzWgy6Aiyr",
    "outputId": "cb40771d-dd65-4f87-a510-ef10993d03fa"
   },
   "outputs": [
    {
     "data": {
      "text/plain": [
       "pressure     float64\n",
       "windspeed    float64\n",
       "rainfall     float64\n",
       "dtype: object"
      ]
     },
     "execution_count": 39,
     "metadata": {},
     "output_type": "execute_result"
    }
   ],
   "source": [
    "nt.dtypes"
   ]
  }
 ],
 "metadata": {
  "colab": {
   "provenance": []
  },
  "kernelspec": {
   "display_name": "Python 3 (ipykernel)",
   "language": "python",
   "name": "python3"
  },
  "language_info": {
   "codemirror_mode": {
    "name": "ipython",
    "version": 3
   },
   "file_extension": ".py",
   "mimetype": "text/x-python",
   "name": "python",
   "nbconvert_exporter": "python",
   "pygments_lexer": "ipython3",
   "version": "3.9.12"
  }
 },
 "nbformat": 4,
 "nbformat_minor": 1
}
