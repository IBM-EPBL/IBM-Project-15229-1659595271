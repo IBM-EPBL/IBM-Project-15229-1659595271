{
 "cells": [
  {
   "cell_type": "code",
   "execution_count": 1,
   "id": "c6ca40a4",
   "metadata": {},
   "outputs": [
    {
     "ename": "ModuleNotFoundError",
     "evalue": "No module named 'xgboost'",
     "output_type": "error",
     "traceback": [
      "\u001b[1;31m---------------------------------------------------------------------------\u001b[0m",
      "\u001b[1;31mModuleNotFoundError\u001b[0m                       Traceback (most recent call last)",
      "Input \u001b[1;32mIn [1]\u001b[0m, in \u001b[0;36m<cell line: 1>\u001b[1;34m()\u001b[0m\n\u001b[1;32m----> 1\u001b[0m \u001b[38;5;28;01mimport\u001b[39;00m \u001b[38;5;21;01mxgboost\u001b[39;00m\n\u001b[0;32m      2\u001b[0m XGBoost\u001b[38;5;241m=\u001b[39mxgboost\u001b[38;5;241m.\u001b[39mXGBRFClassifier()\n\u001b[0;32m      3\u001b[0m Rand_forest\u001b[38;5;241m=\u001b[39msklearn\u001b[38;5;241m.\u001b[39mensemble\u001b[38;5;241m.\u001b[39mRandomForestClassifier()\n",
      "\u001b[1;31mModuleNotFoundError\u001b[0m: No module named 'xgboost'"
     ]
    }
   ],
   "source": [
    "import xgboost\n",
    "XGBoost=xgboost.XGBRFClassifier()\n",
    "Rand_forest=sklearn.ensemble.RandomForestClassifier()\n",
    "svm=sklearn.svm.SVC()\n",
    "Dtree=sklearn.tree.DecisionTreeClassifier()\n",
    "GBM=sklearn.ensemble.GradientBoostingClassifier()\n",
    "log=sklearn.linear_model.LogisticRegression()"
   ]
  },
  {
   "cell_type": "code",
   "execution_count": 3,
   "id": "4af061c4",
   "metadata": {},
   "outputs": [
    {
     "ename": "NameError",
     "evalue": "name 'XGBoost' is not defined",
     "output_type": "error",
     "traceback": [
      "\u001b[1;31m---------------------------------------------------------------------------\u001b[0m",
      "\u001b[1;31mNameError\u001b[0m                                 Traceback (most recent call last)",
      "Input \u001b[1;32mIn [3]\u001b[0m, in \u001b[0;36m<cell line: 1>\u001b[1;34m()\u001b[0m\n\u001b[1;32m----> 1\u001b[0m \u001b[43mXGBoost\u001b[49m\u001b[38;5;241m.\u001b[39mfit(x_train,y_train)\n\u001b[0;32m      2\u001b[0m Rand_forest\u001b[38;5;241m.\u001b[39mfit(x_train,y_train)\n\u001b[0;32m      3\u001b[0m svm\u001b[38;5;241m.\u001b[39mfit(x_train,y_train)\n",
      "\u001b[1;31mNameError\u001b[0m: name 'XGBoost' is not defined"
     ]
    }
   ],
   "source": [
    "XGBoost.fit(x_train,y_train)\n",
    "Rand_forest.fit(x_train,y_train)\n",
    "svm.fit(x_train,y_train)\n",
    "Dtree.fit(x_train,y_train)\n",
    "GBM.fit(x_train,y_train)\n",
    "log.fit(x_train,y_train)"
   ]
  },
  {
   "cell_type": "code",
   "execution_count": 3,
   "id": "8224d35e",
   "metadata": {},
   "outputs": [
    {
     "ename": "NameError",
     "evalue": "name 'XGBoost' is not defined",
     "output_type": "error",
     "traceback": [
      "\u001b[1;31m---------------------------------------------------------------------------\u001b[0m",
      "\u001b[1;31mNameError\u001b[0m                                 Traceback (most recent call last)",
      "Input \u001b[1;32mIn [3]\u001b[0m, in \u001b[0;36m<cell line: 1>\u001b[1;34m()\u001b[0m\n\u001b[1;32m----> 1\u001b[0m p1\u001b[38;5;241m=\u001b[39m\u001b[43mXGBoost\u001b[49m\u001b[38;5;241m.\u001b[39mpredict(x_train)\n\u001b[0;32m      2\u001b[0m p2\u001b[38;5;241m=\u001b[39mRand_forest\u001b[38;5;241m.\u001b[39mpredict(x_train)\n\u001b[0;32m      3\u001b[0m p3\u001b[38;5;241m=\u001b[39msvm\u001b[38;5;241m.\u001b[39mpredict(x_train)\n",
      "\u001b[1;31mNameError\u001b[0m: name 'XGBoost' is not defined"
     ]
    }
   ],
   "source": [
    "p1=XGBoost.predict(x_train)\n",
    "p2=Rand_forest.predict(x_train)\n",
    "p3=svm.predict(x_train)\n",
    "p4=Dtree.predict(x_train)\n",
    "p5=GBM.predict(x_train)\n",
    "p6=log.predict(x_train)"
   ]
  },
  {
   "cell_type": "code",
   "execution_count": null,
   "id": "93d4237b",
   "metadata": {},
   "outputs": [],
   "source": [
    "print(\"xgboost:\",metrices.accuracy_score(y_train,p1))\n",
    "print(\"Rand_forest:\",metrices.accuracy_score(y_train,p2))\n",
    "print(\"svm:\",metrices.accuracy_score(y_train,p3))\n",
    "print(\"Dtree:\",metrices.accuracy_score(y_train,p4))\n",
    "print(\"GBM:\",metrices.accuracy_score(y_train,p5))\n",
    "print(\"log:\",metrices.accuracy_score(y_train,p6))"
   ]
  },
  {
   "cell_type": "code",
   "execution_count": null,
   "id": "3b0532dc",
   "metadata": {},
   "outputs": [],
   "source": []
  }
 ],
 "metadata": {
  "kernelspec": {
   "display_name": "Python 3 (ipykernel)",
   "language": "python",
   "name": "python3"
  },
  "language_info": {
   "codemirror_mode": {
    "name": "ipython",
    "version": 3
   },
   "file_extension": ".py",
   "mimetype": "text/x-python",
   "name": "python",
   "nbconvert_exporter": "python",
   "pygments_lexer": "ipython3",
   "version": "3.9.12"
  }
 },
 "nbformat": 4,
 "nbformat_minor": 5
}
